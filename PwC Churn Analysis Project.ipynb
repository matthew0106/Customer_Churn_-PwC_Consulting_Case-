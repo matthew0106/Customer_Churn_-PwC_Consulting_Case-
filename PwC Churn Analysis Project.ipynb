{
 "cells": [
  {
   "cell_type": "markdown",
   "metadata": {
    "id": "LwXKQQ8ygcwQ"
   },
   "source": [
    "[!images&cd=vfe&opi=89978449&ved=0CBQQjRxqFwoTCOiT0pGJg4wDFQAAAAAdAAAAABA3]\n",
    "\n",
    "# 📊 Telecom Customer Churn Analysis – PwC Consulting Case Study\n",
    "\n",
    "## **📌 Background**\n",
    "The telecom industry is highly competitive, and customers frequently switch providers for better pricing, improved service quality, or enhanced customer experience. The company is losing a significant percentage of customers every month, affecting revenue and profitability. The CEO wants to understand:\n",
    "\n",
    "- Who are the customers that are churning?\n",
    "- What factors contribute to churn the most?\n",
    "- How can the company proactively predict and prevent churn?\n",
    "\n",
    "--> My task is to conducting an exploratory data analysis (EDA) on customer demographics and behaviors, followed by building a churn prediction model to identify key risk factors leading to customer churn.\n",
    "\n",
    "---"
   ]
  },
  {
   "cell_type": "markdown",
   "metadata": {
    "id": "vGsc_UR8h59R"
   },
   "source": [
    "# 1. Import the data"
   ]
  },
  {
   "cell_type": "code",
   "execution_count": null,
   "metadata": {
    "executionInfo": {
     "elapsed": 3,
     "status": "ok",
     "timestamp": 1741660633882,
     "user": {
      "displayName": "Tan Huynh Trong",
      "userId": "10450054496820116452"
     },
     "user_tz": -660
    },
    "id": "LEh5M3mBhvoh"
   },
   "outputs": [],
   "source": [
    "import numpy as np\n",
    "import pandas as pd\n",
    "import matplotlib.pyplot as plt\n",
    "import seaborn as sns\n",
    "import warnings\n",
    "warnings.filterwarnings('ignore')"
   ]
  },
  {
   "cell_type": "code",
   "execution_count": null,
   "metadata": {
    "executionInfo": {
     "elapsed": 6,
     "status": "ok",
     "timestamp": 1741660636270,
     "user": {
      "displayName": "Tan Huynh Trong",
      "userId": "10450054496820116452"
     },
     "user_tz": -660
    },
    "id": "PrAOcqEqDTKD"
   },
   "outputs": [],
   "source": [
    "df = pd.read_csv('Churn-Dataset.csv')"
   ]
  },
  {
   "cell_type": "markdown",
   "metadata": {
    "id": "KUvAdEyFh9TB"
   },
   "source": [
    "# 2. Data preparation & Cleaning"
   ]
  },
  {
   "cell_type": "code",
   "execution_count": 80,
   "metadata": {
    "colab": {
     "base_uri": "https://localhost:8080/"
    },
    "executionInfo": {
     "elapsed": 30,
     "status": "ok",
     "timestamp": 1741673684848,
     "user": {
      "displayName": "Tan Huynh Trong",
      "userId": "10450054496820116452"
     },
     "user_tz": -660
    },
    "id": "k2Rp7tgpDVRP",
    "outputId": "7a80ed04-649a-420f-b24f-f772ac411f21"
   },
   "outputs": [
    {
     "name": "stdout",
     "output_type": "stream",
     "text": [
      "<class 'pandas.core.frame.DataFrame'>\n",
      "RangeIndex: 7043 entries, 0 to 7042\n",
      "Data columns (total 23 columns):\n",
      " #   Column            Non-Null Count  Dtype  \n",
      "---  ------            --------------  -----  \n",
      " 0   customerID        7043 non-null   object \n",
      " 1   gender            7043 non-null   int64  \n",
      " 2   SeniorCitizen     7043 non-null   int64  \n",
      " 3   Partner           7043 non-null   int64  \n",
      " 4   Dependents        7043 non-null   int64  \n",
      " 5   tenure            7043 non-null   int64  \n",
      " 6   PhoneService      7043 non-null   object \n",
      " 7   MultipleLines     7043 non-null   object \n",
      " 8   InternetService   7043 non-null   object \n",
      " 9   OnlineSecurity    7043 non-null   object \n",
      " 10  OnlineBackup      7043 non-null   object \n",
      " 11  DeviceProtection  7043 non-null   object \n",
      " 12  TechSupport       7043 non-null   object \n",
      " 13  StreamingTV       7043 non-null   object \n",
      " 14  StreamingMovies   7043 non-null   object \n",
      " 15  Contract          7043 non-null   object \n",
      " 16  PaperlessBilling  7043 non-null   int64  \n",
      " 17  PaymentMethod     7043 non-null   object \n",
      " 18  MonthlyCharges    7043 non-null   float64\n",
      " 19  TotalCharges      7043 non-null   object \n",
      " 20  numAdminTickets   7043 non-null   int64  \n",
      " 21  numTechTickets    7043 non-null   int64  \n",
      " 22  Churn             7043 non-null   int64  \n",
      "dtypes: float64(1), int64(9), object(13)\n",
      "memory usage: 1.2+ MB\n"
     ]
    }
   ],
   "source": [
    "df.info()"
   ]
  },
  {
   "cell_type": "code",
   "execution_count": 16,
   "metadata": {
    "colab": {
     "base_uri": "https://localhost:8080/",
     "height": 458
    },
    "collapsed": true,
    "executionInfo": {
     "elapsed": 46,
     "status": "ok",
     "timestamp": 1741660640956,
     "user": {
      "displayName": "Tan Huynh Trong",
      "userId": "10450054496820116452"
     },
     "user_tz": -660
    },
    "id": "QvsALxgIf1jS",
    "outputId": "2fcb4619-57f7-4e1b-86a0-e49aeadb9b80"
   },
   "outputs": [
    {
     "data": {
      "text/html": [
       "<div>\n",
       "<style scoped>\n",
       "    .dataframe tbody tr th:only-of-type {\n",
       "        vertical-align: middle;\n",
       "    }\n",
       "\n",
       "    .dataframe tbody tr th {\n",
       "        vertical-align: top;\n",
       "    }\n",
       "\n",
       "    .dataframe thead th {\n",
       "        text-align: right;\n",
       "    }\n",
       "</style>\n",
       "<table border=\"1\" class=\"dataframe\">\n",
       "  <thead>\n",
       "    <tr style=\"text-align: right;\">\n",
       "      <th></th>\n",
       "      <th>Churn</th>\n",
       "    </tr>\n",
       "  </thead>\n",
       "  <tbody>\n",
       "    <tr>\n",
       "      <th>0</th>\n",
       "      <td>No</td>\n",
       "    </tr>\n",
       "    <tr>\n",
       "      <th>1</th>\n",
       "      <td>No</td>\n",
       "    </tr>\n",
       "    <tr>\n",
       "      <th>2</th>\n",
       "      <td>Yes</td>\n",
       "    </tr>\n",
       "    <tr>\n",
       "      <th>3</th>\n",
       "      <td>No</td>\n",
       "    </tr>\n",
       "    <tr>\n",
       "      <th>4</th>\n",
       "      <td>Yes</td>\n",
       "    </tr>\n",
       "    <tr>\n",
       "      <th>...</th>\n",
       "      <td>...</td>\n",
       "    </tr>\n",
       "    <tr>\n",
       "      <th>7038</th>\n",
       "      <td>No</td>\n",
       "    </tr>\n",
       "    <tr>\n",
       "      <th>7039</th>\n",
       "      <td>No</td>\n",
       "    </tr>\n",
       "    <tr>\n",
       "      <th>7040</th>\n",
       "      <td>No</td>\n",
       "    </tr>\n",
       "    <tr>\n",
       "      <th>7041</th>\n",
       "      <td>Yes</td>\n",
       "    </tr>\n",
       "    <tr>\n",
       "      <th>7042</th>\n",
       "      <td>No</td>\n",
       "    </tr>\n",
       "  </tbody>\n",
       "</table>\n",
       "<p>7043 rows × 1 columns</p>\n",
       "</div><br><label><b>dtype:</b> object</label>"
      ],
      "text/plain": [
       "0        No\n",
       "1        No\n",
       "2       Yes\n",
       "3        No\n",
       "4       Yes\n",
       "       ... \n",
       "7038     No\n",
       "7039     No\n",
       "7040     No\n",
       "7041    Yes\n",
       "7042     No\n",
       "Name: Churn, Length: 7043, dtype: object"
      ]
     },
     "execution_count": 16,
     "metadata": {},
     "output_type": "execute_result"
    }
   ],
   "source": [
    "df['Churn']"
   ]
  },
  {
   "cell_type": "code",
   "execution_count": 17,
   "metadata": {
    "executionInfo": {
     "elapsed": 3,
     "status": "ok",
     "timestamp": 1741660644042,
     "user": {
      "displayName": "Tan Huynh Trong",
      "userId": "10450054496820116452"
     },
     "user_tz": -660
    },
    "id": "eY8q8d55DdiM"
   },
   "outputs": [],
   "source": [
    "df['Churn'] = df['Churn'].apply(lambda x:1 if x.lower() == 'yes' else 0 )"
   ]
  },
  {
   "cell_type": "code",
   "execution_count": 18,
   "metadata": {
    "executionInfo": {
     "elapsed": 2,
     "status": "ok",
     "timestamp": 1741660645950,
     "user": {
      "displayName": "Tan Huynh Trong",
      "userId": "10450054496820116452"
     },
     "user_tz": -660
    },
    "id": "y69zwxLLDfQz"
   },
   "outputs": [],
   "source": [
    "change_cols = ['Partner', 'Dependents', 'PaperlessBilling']\n",
    "for col in change_cols:\n",
    "    df[col] = df[col].apply(lambda x: 1 if x == 'Yes' else 0)\n",
    "\n",
    "df['gender'] = df['gender'].apply(lambda x: 1 if x == 'Male' else 0)"
   ]
  },
  {
   "cell_type": "code",
   "execution_count": 24,
   "metadata": {
    "colab": {
     "base_uri": "https://localhost:8080/",
     "height": 585
    },
    "executionInfo": {
     "elapsed": 53,
     "status": "ok",
     "timestamp": 1741660764938,
     "user": {
      "displayName": "Tan Huynh Trong",
      "userId": "10450054496820116452"
     },
     "user_tz": -660
    },
    "id": "asnmZDLjDhL9",
    "outputId": "50f86375-99a6-4b04-8e09-8820a214fb3a"
   },
   "outputs": [
    {
     "data": {
      "application/vnd.google.colaboratory.intrinsic+json": {
       "type": "dataframe",
       "variable_name": "df"
      },
      "text/html": [
       "\n",
       "  <div id=\"df-98f49978-3238-4c0f-97bd-0ef4d41c4f8e\" class=\"colab-df-container\">\n",
       "    <div>\n",
       "<style scoped>\n",
       "    .dataframe tbody tr th:only-of-type {\n",
       "        vertical-align: middle;\n",
       "    }\n",
       "\n",
       "    .dataframe tbody tr th {\n",
       "        vertical-align: top;\n",
       "    }\n",
       "\n",
       "    .dataframe thead th {\n",
       "        text-align: right;\n",
       "    }\n",
       "</style>\n",
       "<table border=\"1\" class=\"dataframe\">\n",
       "  <thead>\n",
       "    <tr style=\"text-align: right;\">\n",
       "      <th></th>\n",
       "      <th>customerID</th>\n",
       "      <th>gender</th>\n",
       "      <th>SeniorCitizen</th>\n",
       "      <th>Partner</th>\n",
       "      <th>Dependents</th>\n",
       "      <th>tenure</th>\n",
       "      <th>PhoneService</th>\n",
       "      <th>MultipleLines</th>\n",
       "      <th>InternetService</th>\n",
       "      <th>OnlineSecurity</th>\n",
       "      <th>...</th>\n",
       "      <th>StreamingTV</th>\n",
       "      <th>StreamingMovies</th>\n",
       "      <th>Contract</th>\n",
       "      <th>PaperlessBilling</th>\n",
       "      <th>PaymentMethod</th>\n",
       "      <th>MonthlyCharges</th>\n",
       "      <th>TotalCharges</th>\n",
       "      <th>numAdminTickets</th>\n",
       "      <th>numTechTickets</th>\n",
       "      <th>Churn</th>\n",
       "    </tr>\n",
       "  </thead>\n",
       "  <tbody>\n",
       "    <tr>\n",
       "      <th>0</th>\n",
       "      <td>7590-VHVEG</td>\n",
       "      <td>0</td>\n",
       "      <td>0</td>\n",
       "      <td>1</td>\n",
       "      <td>0</td>\n",
       "      <td>1</td>\n",
       "      <td>No</td>\n",
       "      <td>No phone service</td>\n",
       "      <td>DSL</td>\n",
       "      <td>No</td>\n",
       "      <td>...</td>\n",
       "      <td>No</td>\n",
       "      <td>No</td>\n",
       "      <td>Month-to-month</td>\n",
       "      <td>1</td>\n",
       "      <td>Electronic check</td>\n",
       "      <td>29.85</td>\n",
       "      <td>29.85</td>\n",
       "      <td>0</td>\n",
       "      <td>0</td>\n",
       "      <td>0</td>\n",
       "    </tr>\n",
       "    <tr>\n",
       "      <th>1</th>\n",
       "      <td>5575-GNVDE</td>\n",
       "      <td>1</td>\n",
       "      <td>0</td>\n",
       "      <td>0</td>\n",
       "      <td>0</td>\n",
       "      <td>34</td>\n",
       "      <td>Yes</td>\n",
       "      <td>No</td>\n",
       "      <td>DSL</td>\n",
       "      <td>Yes</td>\n",
       "      <td>...</td>\n",
       "      <td>No</td>\n",
       "      <td>No</td>\n",
       "      <td>One year</td>\n",
       "      <td>0</td>\n",
       "      <td>Mailed check</td>\n",
       "      <td>56.95</td>\n",
       "      <td>1889.5</td>\n",
       "      <td>0</td>\n",
       "      <td>0</td>\n",
       "      <td>0</td>\n",
       "    </tr>\n",
       "    <tr>\n",
       "      <th>2</th>\n",
       "      <td>3668-QPYBK</td>\n",
       "      <td>1</td>\n",
       "      <td>0</td>\n",
       "      <td>0</td>\n",
       "      <td>0</td>\n",
       "      <td>2</td>\n",
       "      <td>Yes</td>\n",
       "      <td>No</td>\n",
       "      <td>DSL</td>\n",
       "      <td>Yes</td>\n",
       "      <td>...</td>\n",
       "      <td>No</td>\n",
       "      <td>No</td>\n",
       "      <td>Month-to-month</td>\n",
       "      <td>1</td>\n",
       "      <td>Mailed check</td>\n",
       "      <td>53.85</td>\n",
       "      <td>108.15</td>\n",
       "      <td>0</td>\n",
       "      <td>0</td>\n",
       "      <td>1</td>\n",
       "    </tr>\n",
       "    <tr>\n",
       "      <th>3</th>\n",
       "      <td>7795-CFOCW</td>\n",
       "      <td>1</td>\n",
       "      <td>0</td>\n",
       "      <td>0</td>\n",
       "      <td>0</td>\n",
       "      <td>45</td>\n",
       "      <td>No</td>\n",
       "      <td>No phone service</td>\n",
       "      <td>DSL</td>\n",
       "      <td>Yes</td>\n",
       "      <td>...</td>\n",
       "      <td>No</td>\n",
       "      <td>No</td>\n",
       "      <td>One year</td>\n",
       "      <td>0</td>\n",
       "      <td>Bank transfer (automatic)</td>\n",
       "      <td>42.30</td>\n",
       "      <td>1840.75</td>\n",
       "      <td>0</td>\n",
       "      <td>3</td>\n",
       "      <td>0</td>\n",
       "    </tr>\n",
       "    <tr>\n",
       "      <th>4</th>\n",
       "      <td>9237-HQITU</td>\n",
       "      <td>0</td>\n",
       "      <td>0</td>\n",
       "      <td>0</td>\n",
       "      <td>0</td>\n",
       "      <td>2</td>\n",
       "      <td>Yes</td>\n",
       "      <td>No</td>\n",
       "      <td>Fiber optic</td>\n",
       "      <td>No</td>\n",
       "      <td>...</td>\n",
       "      <td>No</td>\n",
       "      <td>No</td>\n",
       "      <td>Month-to-month</td>\n",
       "      <td>1</td>\n",
       "      <td>Electronic check</td>\n",
       "      <td>70.70</td>\n",
       "      <td>151.65</td>\n",
       "      <td>0</td>\n",
       "      <td>0</td>\n",
       "      <td>1</td>\n",
       "    </tr>\n",
       "    <tr>\n",
       "      <th>5</th>\n",
       "      <td>9305-CDSKC</td>\n",
       "      <td>0</td>\n",
       "      <td>0</td>\n",
       "      <td>0</td>\n",
       "      <td>0</td>\n",
       "      <td>8</td>\n",
       "      <td>Yes</td>\n",
       "      <td>Yes</td>\n",
       "      <td>Fiber optic</td>\n",
       "      <td>No</td>\n",
       "      <td>...</td>\n",
       "      <td>Yes</td>\n",
       "      <td>Yes</td>\n",
       "      <td>Month-to-month</td>\n",
       "      <td>1</td>\n",
       "      <td>Electronic check</td>\n",
       "      <td>99.65</td>\n",
       "      <td>820.5</td>\n",
       "      <td>0</td>\n",
       "      <td>0</td>\n",
       "      <td>1</td>\n",
       "    </tr>\n",
       "    <tr>\n",
       "      <th>6</th>\n",
       "      <td>1452-KIOVK</td>\n",
       "      <td>1</td>\n",
       "      <td>0</td>\n",
       "      <td>0</td>\n",
       "      <td>1</td>\n",
       "      <td>22</td>\n",
       "      <td>Yes</td>\n",
       "      <td>Yes</td>\n",
       "      <td>Fiber optic</td>\n",
       "      <td>No</td>\n",
       "      <td>...</td>\n",
       "      <td>Yes</td>\n",
       "      <td>No</td>\n",
       "      <td>Month-to-month</td>\n",
       "      <td>1</td>\n",
       "      <td>Credit card (automatic)</td>\n",
       "      <td>89.10</td>\n",
       "      <td>1949.4</td>\n",
       "      <td>0</td>\n",
       "      <td>0</td>\n",
       "      <td>0</td>\n",
       "    </tr>\n",
       "    <tr>\n",
       "      <th>7</th>\n",
       "      <td>6713-OKOMC</td>\n",
       "      <td>0</td>\n",
       "      <td>0</td>\n",
       "      <td>0</td>\n",
       "      <td>0</td>\n",
       "      <td>10</td>\n",
       "      <td>No</td>\n",
       "      <td>No phone service</td>\n",
       "      <td>DSL</td>\n",
       "      <td>Yes</td>\n",
       "      <td>...</td>\n",
       "      <td>No</td>\n",
       "      <td>No</td>\n",
       "      <td>Month-to-month</td>\n",
       "      <td>0</td>\n",
       "      <td>Mailed check</td>\n",
       "      <td>29.75</td>\n",
       "      <td>301.9</td>\n",
       "      <td>0</td>\n",
       "      <td>0</td>\n",
       "      <td>0</td>\n",
       "    </tr>\n",
       "    <tr>\n",
       "      <th>8</th>\n",
       "      <td>7892-POOKP</td>\n",
       "      <td>0</td>\n",
       "      <td>0</td>\n",
       "      <td>1</td>\n",
       "      <td>0</td>\n",
       "      <td>28</td>\n",
       "      <td>Yes</td>\n",
       "      <td>Yes</td>\n",
       "      <td>Fiber optic</td>\n",
       "      <td>No</td>\n",
       "      <td>...</td>\n",
       "      <td>Yes</td>\n",
       "      <td>Yes</td>\n",
       "      <td>Month-to-month</td>\n",
       "      <td>1</td>\n",
       "      <td>Electronic check</td>\n",
       "      <td>104.80</td>\n",
       "      <td>3046.05</td>\n",
       "      <td>0</td>\n",
       "      <td>2</td>\n",
       "      <td>1</td>\n",
       "    </tr>\n",
       "    <tr>\n",
       "      <th>9</th>\n",
       "      <td>6388-TABGU</td>\n",
       "      <td>1</td>\n",
       "      <td>0</td>\n",
       "      <td>0</td>\n",
       "      <td>1</td>\n",
       "      <td>62</td>\n",
       "      <td>Yes</td>\n",
       "      <td>No</td>\n",
       "      <td>DSL</td>\n",
       "      <td>Yes</td>\n",
       "      <td>...</td>\n",
       "      <td>No</td>\n",
       "      <td>No</td>\n",
       "      <td>One year</td>\n",
       "      <td>0</td>\n",
       "      <td>Bank transfer (automatic)</td>\n",
       "      <td>56.15</td>\n",
       "      <td>3487.95</td>\n",
       "      <td>0</td>\n",
       "      <td>0</td>\n",
       "      <td>0</td>\n",
       "    </tr>\n",
       "  </tbody>\n",
       "</table>\n",
       "<p>10 rows × 23 columns</p>\n",
       "</div>\n",
       "    <div class=\"colab-df-buttons\">\n",
       "\n",
       "  <div class=\"colab-df-container\">\n",
       "    <button class=\"colab-df-convert\" onclick=\"convertToInteractive('df-98f49978-3238-4c0f-97bd-0ef4d41c4f8e')\"\n",
       "            title=\"Convert this dataframe to an interactive table.\"\n",
       "            style=\"display:none;\">\n",
       "\n",
       "  <svg xmlns=\"http://www.w3.org/2000/svg\" height=\"24px\" viewBox=\"0 -960 960 960\">\n",
       "    <path d=\"M120-120v-720h720v720H120Zm60-500h600v-160H180v160Zm220 220h160v-160H400v160Zm0 220h160v-160H400v160ZM180-400h160v-160H180v160Zm440 0h160v-160H620v160ZM180-180h160v-160H180v160Zm440 0h160v-160H620v160Z\"/>\n",
       "  </svg>\n",
       "    </button>\n",
       "\n",
       "  <style>\n",
       "    .colab-df-container {\n",
       "      display:flex;\n",
       "      gap: 12px;\n",
       "    }\n",
       "\n",
       "    .colab-df-convert {\n",
       "      background-color: #E8F0FE;\n",
       "      border: none;\n",
       "      border-radius: 50%;\n",
       "      cursor: pointer;\n",
       "      display: none;\n",
       "      fill: #1967D2;\n",
       "      height: 32px;\n",
       "      padding: 0 0 0 0;\n",
       "      width: 32px;\n",
       "    }\n",
       "\n",
       "    .colab-df-convert:hover {\n",
       "      background-color: #E2EBFA;\n",
       "      box-shadow: 0px 1px 2px rgba(60, 64, 67, 0.3), 0px 1px 3px 1px rgba(60, 64, 67, 0.15);\n",
       "      fill: #174EA6;\n",
       "    }\n",
       "\n",
       "    .colab-df-buttons div {\n",
       "      margin-bottom: 4px;\n",
       "    }\n",
       "\n",
       "    [theme=dark] .colab-df-convert {\n",
       "      background-color: #3B4455;\n",
       "      fill: #D2E3FC;\n",
       "    }\n",
       "\n",
       "    [theme=dark] .colab-df-convert:hover {\n",
       "      background-color: #434B5C;\n",
       "      box-shadow: 0px 1px 3px 1px rgba(0, 0, 0, 0.15);\n",
       "      filter: drop-shadow(0px 1px 2px rgba(0, 0, 0, 0.3));\n",
       "      fill: #FFFFFF;\n",
       "    }\n",
       "  </style>\n",
       "\n",
       "    <script>\n",
       "      const buttonEl =\n",
       "        document.querySelector('#df-98f49978-3238-4c0f-97bd-0ef4d41c4f8e button.colab-df-convert');\n",
       "      buttonEl.style.display =\n",
       "        google.colab.kernel.accessAllowed ? 'block' : 'none';\n",
       "\n",
       "      async function convertToInteractive(key) {\n",
       "        const element = document.querySelector('#df-98f49978-3238-4c0f-97bd-0ef4d41c4f8e');\n",
       "        const dataTable =\n",
       "          await google.colab.kernel.invokeFunction('convertToInteractive',\n",
       "                                                    [key], {});\n",
       "        if (!dataTable) return;\n",
       "\n",
       "        const docLinkHtml = 'Like what you see? Visit the ' +\n",
       "          '<a target=\"_blank\" href=https://colab.research.google.com/notebooks/data_table.ipynb>data table notebook</a>'\n",
       "          + ' to learn more about interactive tables.';\n",
       "        element.innerHTML = '';\n",
       "        dataTable['output_type'] = 'display_data';\n",
       "        await google.colab.output.renderOutput(dataTable, element);\n",
       "        const docLink = document.createElement('div');\n",
       "        docLink.innerHTML = docLinkHtml;\n",
       "        element.appendChild(docLink);\n",
       "      }\n",
       "    </script>\n",
       "  </div>\n",
       "\n",
       "\n",
       "<div id=\"df-f05546ae-7355-4bd8-b2f8-a723069901bf\">\n",
       "  <button class=\"colab-df-quickchart\" onclick=\"quickchart('df-f05546ae-7355-4bd8-b2f8-a723069901bf')\"\n",
       "            title=\"Suggest charts\"\n",
       "            style=\"display:none;\">\n",
       "\n",
       "<svg xmlns=\"http://www.w3.org/2000/svg\" height=\"24px\"viewBox=\"0 0 24 24\"\n",
       "     width=\"24px\">\n",
       "    <g>\n",
       "        <path d=\"M19 3H5c-1.1 0-2 .9-2 2v14c0 1.1.9 2 2 2h14c1.1 0 2-.9 2-2V5c0-1.1-.9-2-2-2zM9 17H7v-7h2v7zm4 0h-2V7h2v10zm4 0h-2v-4h2v4z\"/>\n",
       "    </g>\n",
       "</svg>\n",
       "  </button>\n",
       "\n",
       "<style>\n",
       "  .colab-df-quickchart {\n",
       "      --bg-color: #E8F0FE;\n",
       "      --fill-color: #1967D2;\n",
       "      --hover-bg-color: #E2EBFA;\n",
       "      --hover-fill-color: #174EA6;\n",
       "      --disabled-fill-color: #AAA;\n",
       "      --disabled-bg-color: #DDD;\n",
       "  }\n",
       "\n",
       "  [theme=dark] .colab-df-quickchart {\n",
       "      --bg-color: #3B4455;\n",
       "      --fill-color: #D2E3FC;\n",
       "      --hover-bg-color: #434B5C;\n",
       "      --hover-fill-color: #FFFFFF;\n",
       "      --disabled-bg-color: #3B4455;\n",
       "      --disabled-fill-color: #666;\n",
       "  }\n",
       "\n",
       "  .colab-df-quickchart {\n",
       "    background-color: var(--bg-color);\n",
       "    border: none;\n",
       "    border-radius: 50%;\n",
       "    cursor: pointer;\n",
       "    display: none;\n",
       "    fill: var(--fill-color);\n",
       "    height: 32px;\n",
       "    padding: 0;\n",
       "    width: 32px;\n",
       "  }\n",
       "\n",
       "  .colab-df-quickchart:hover {\n",
       "    background-color: var(--hover-bg-color);\n",
       "    box-shadow: 0 1px 2px rgba(60, 64, 67, 0.3), 0 1px 3px 1px rgba(60, 64, 67, 0.15);\n",
       "    fill: var(--button-hover-fill-color);\n",
       "  }\n",
       "\n",
       "  .colab-df-quickchart-complete:disabled,\n",
       "  .colab-df-quickchart-complete:disabled:hover {\n",
       "    background-color: var(--disabled-bg-color);\n",
       "    fill: var(--disabled-fill-color);\n",
       "    box-shadow: none;\n",
       "  }\n",
       "\n",
       "  .colab-df-spinner {\n",
       "    border: 2px solid var(--fill-color);\n",
       "    border-color: transparent;\n",
       "    border-bottom-color: var(--fill-color);\n",
       "    animation:\n",
       "      spin 1s steps(1) infinite;\n",
       "  }\n",
       "\n",
       "  @keyframes spin {\n",
       "    0% {\n",
       "      border-color: transparent;\n",
       "      border-bottom-color: var(--fill-color);\n",
       "      border-left-color: var(--fill-color);\n",
       "    }\n",
       "    20% {\n",
       "      border-color: transparent;\n",
       "      border-left-color: var(--fill-color);\n",
       "      border-top-color: var(--fill-color);\n",
       "    }\n",
       "    30% {\n",
       "      border-color: transparent;\n",
       "      border-left-color: var(--fill-color);\n",
       "      border-top-color: var(--fill-color);\n",
       "      border-right-color: var(--fill-color);\n",
       "    }\n",
       "    40% {\n",
       "      border-color: transparent;\n",
       "      border-right-color: var(--fill-color);\n",
       "      border-top-color: var(--fill-color);\n",
       "    }\n",
       "    60% {\n",
       "      border-color: transparent;\n",
       "      border-right-color: var(--fill-color);\n",
       "    }\n",
       "    80% {\n",
       "      border-color: transparent;\n",
       "      border-right-color: var(--fill-color);\n",
       "      border-bottom-color: var(--fill-color);\n",
       "    }\n",
       "    90% {\n",
       "      border-color: transparent;\n",
       "      border-bottom-color: var(--fill-color);\n",
       "    }\n",
       "  }\n",
       "</style>\n",
       "\n",
       "  <script>\n",
       "    async function quickchart(key) {\n",
       "      const quickchartButtonEl =\n",
       "        document.querySelector('#' + key + ' button');\n",
       "      quickchartButtonEl.disabled = true;  // To prevent multiple clicks.\n",
       "      quickchartButtonEl.classList.add('colab-df-spinner');\n",
       "      try {\n",
       "        const charts = await google.colab.kernel.invokeFunction(\n",
       "            'suggestCharts', [key], {});\n",
       "      } catch (error) {\n",
       "        console.error('Error during call to suggestCharts:', error);\n",
       "      }\n",
       "      quickchartButtonEl.classList.remove('colab-df-spinner');\n",
       "      quickchartButtonEl.classList.add('colab-df-quickchart-complete');\n",
       "    }\n",
       "    (() => {\n",
       "      let quickchartButtonEl =\n",
       "        document.querySelector('#df-f05546ae-7355-4bd8-b2f8-a723069901bf button');\n",
       "      quickchartButtonEl.style.display =\n",
       "        google.colab.kernel.accessAllowed ? 'block' : 'none';\n",
       "    })();\n",
       "  </script>\n",
       "</div>\n",
       "\n",
       "    </div>\n",
       "  </div>\n"
      ],
      "text/plain": [
       "   customerID  gender  SeniorCitizen  Partner  Dependents  tenure  \\\n",
       "0  7590-VHVEG       0              0        1           0       1   \n",
       "1  5575-GNVDE       1              0        0           0      34   \n",
       "2  3668-QPYBK       1              0        0           0       2   \n",
       "3  7795-CFOCW       1              0        0           0      45   \n",
       "4  9237-HQITU       0              0        0           0       2   \n",
       "5  9305-CDSKC       0              0        0           0       8   \n",
       "6  1452-KIOVK       1              0        0           1      22   \n",
       "7  6713-OKOMC       0              0        0           0      10   \n",
       "8  7892-POOKP       0              0        1           0      28   \n",
       "9  6388-TABGU       1              0        0           1      62   \n",
       "\n",
       "  PhoneService     MultipleLines InternetService OnlineSecurity  ...  \\\n",
       "0           No  No phone service             DSL             No  ...   \n",
       "1          Yes                No             DSL            Yes  ...   \n",
       "2          Yes                No             DSL            Yes  ...   \n",
       "3           No  No phone service             DSL            Yes  ...   \n",
       "4          Yes                No     Fiber optic             No  ...   \n",
       "5          Yes               Yes     Fiber optic             No  ...   \n",
       "6          Yes               Yes     Fiber optic             No  ...   \n",
       "7           No  No phone service             DSL            Yes  ...   \n",
       "8          Yes               Yes     Fiber optic             No  ...   \n",
       "9          Yes                No             DSL            Yes  ...   \n",
       "\n",
       "  StreamingTV StreamingMovies        Contract PaperlessBilling  \\\n",
       "0          No              No  Month-to-month                1   \n",
       "1          No              No        One year                0   \n",
       "2          No              No  Month-to-month                1   \n",
       "3          No              No        One year                0   \n",
       "4          No              No  Month-to-month                1   \n",
       "5         Yes             Yes  Month-to-month                1   \n",
       "6         Yes              No  Month-to-month                1   \n",
       "7          No              No  Month-to-month                0   \n",
       "8         Yes             Yes  Month-to-month                1   \n",
       "9          No              No        One year                0   \n",
       "\n",
       "               PaymentMethod MonthlyCharges  TotalCharges numAdminTickets  \\\n",
       "0           Electronic check          29.85         29.85               0   \n",
       "1               Mailed check          56.95        1889.5               0   \n",
       "2               Mailed check          53.85        108.15               0   \n",
       "3  Bank transfer (automatic)          42.30       1840.75               0   \n",
       "4           Electronic check          70.70        151.65               0   \n",
       "5           Electronic check          99.65         820.5               0   \n",
       "6    Credit card (automatic)          89.10        1949.4               0   \n",
       "7               Mailed check          29.75         301.9               0   \n",
       "8           Electronic check         104.80       3046.05               0   \n",
       "9  Bank transfer (automatic)          56.15       3487.95               0   \n",
       "\n",
       "   numTechTickets Churn  \n",
       "0               0     0  \n",
       "1               0     0  \n",
       "2               0     1  \n",
       "3               3     0  \n",
       "4               0     1  \n",
       "5               0     1  \n",
       "6               0     0  \n",
       "7               0     0  \n",
       "8               2     1  \n",
       "9               0     0  \n",
       "\n",
       "[10 rows x 23 columns]"
      ]
     },
     "execution_count": 24,
     "metadata": {},
     "output_type": "execute_result"
    }
   ],
   "source": [
    "df.head(10)"
   ]
  },
  {
   "cell_type": "markdown",
   "metadata": {
    "id": "3wvKrrrYiAKK"
   },
   "source": [
    "# 3. Exploratory Data Analysis"
   ]
  },
  {
   "cell_type": "markdown",
   "metadata": {
    "id": "ccnlMl8upqun"
   },
   "source": [
    "## **Basic Stats**"
   ]
  },
  {
   "cell_type": "code",
   "execution_count": 25,
   "metadata": {
    "colab": {
     "base_uri": "https://localhost:8080/",
     "height": 320
    },
    "executionInfo": {
     "elapsed": 7,
     "status": "ok",
     "timestamp": 1741660768780,
     "user": {
      "displayName": "Tan Huynh Trong",
      "userId": "10450054496820116452"
     },
     "user_tz": -660
    },
    "id": "wafHgH-EiEnz",
    "outputId": "47b0e2c1-f053-433e-f979-eabffcbd49ac"
   },
   "outputs": [
    {
     "data": {
      "application/vnd.google.colaboratory.intrinsic+json": {
       "summary": "{\n  \"name\": \"df\",\n  \"rows\": 8,\n  \"fields\": [\n    {\n      \"column\": \"gender\",\n      \"properties\": {\n        \"dtype\": \"number\",\n        \"std\": 2489.874293365961,\n        \"min\": 0.0,\n        \"max\": 7043.0,\n        \"num_unique_values\": 5,\n        \"samples\": [\n          0.504756495811444,\n          1.0,\n          0.5000128736471762\n        ],\n        \"semantic_type\": \"\",\n        \"description\": \"\"\n      }\n    },\n    {\n      \"column\": \"SeniorCitizen\",\n      \"properties\": {\n        \"dtype\": \"number\",\n        \"std\": 2489.9992387084,\n        \"min\": 0.0,\n        \"max\": 7043.0,\n        \"num_unique_values\": 5,\n        \"samples\": [\n          0.1621468124378816,\n          1.0,\n          0.36861160561002687\n        ],\n        \"semantic_type\": \"\",\n        \"description\": \"\"\n      }\n    },\n    {\n      \"column\": \"Partner\",\n      \"properties\": {\n        \"dtype\": \"number\",\n        \"std\": 2489.92591156319,\n        \"min\": 0.0,\n        \"max\": 7043.0,\n        \"num_unique_values\": 5,\n        \"samples\": [\n          0.4830327985233565,\n          1.0,\n          0.49974751072001666\n        ],\n        \"semantic_type\": \"\",\n        \"description\": \"\"\n      }\n    },\n    {\n      \"column\": \"Dependents\",\n      \"properties\": {\n        \"dtype\": \"number\",\n        \"std\": 2489.9372799481184,\n        \"min\": 0.0,\n        \"max\": 7043.0,\n        \"num_unique_values\": 5,\n        \"samples\": [\n          0.2995882436461735,\n          1.0,\n          0.4581101675100081\n        ],\n        \"semantic_type\": \"\",\n        \"description\": \"\"\n      }\n    },\n    {\n      \"column\": \"tenure\",\n      \"properties\": {\n        \"dtype\": \"number\",\n        \"std\": 2478.9752758409018,\n        \"min\": 0.0,\n        \"max\": 7043.0,\n        \"num_unique_values\": 8,\n        \"samples\": [\n          32.37114865824223,\n          29.0,\n          7043.0\n        ],\n        \"semantic_type\": \"\",\n        \"description\": \"\"\n      }\n    },\n    {\n      \"column\": \"PaperlessBilling\",\n      \"properties\": {\n        \"dtype\": \"number\",\n        \"std\": 2489.8703078652547,\n        \"min\": 0.0,\n        \"max\": 7043.0,\n        \"num_unique_values\": 5,\n        \"samples\": [\n          0.5922192247621753,\n          1.0,\n          0.491456924049444\n        ],\n        \"semantic_type\": \"\",\n        \"description\": \"\"\n      }\n    },\n    {\n      \"column\": \"MonthlyCharges\",\n      \"properties\": {\n        \"dtype\": \"number\",\n        \"std\": 2468.7047672837775,\n        \"min\": 18.25,\n        \"max\": 7043.0,\n        \"num_unique_values\": 8,\n        \"samples\": [\n          64.76169246059918,\n          70.35,\n          7043.0\n        ],\n        \"semantic_type\": \"\",\n        \"description\": \"\"\n      }\n    },\n    {\n      \"column\": \"numAdminTickets\",\n      \"properties\": {\n        \"dtype\": \"number\",\n        \"std\": 2489.7341157636365,\n        \"min\": 0.0,\n        \"max\": 7043.0,\n        \"num_unique_values\": 5,\n        \"samples\": [\n          0.5156893369302854,\n          5.0,\n          1.275298736979446\n        ],\n        \"semantic_type\": \"\",\n        \"description\": \"\"\n      }\n    },\n    {\n      \"column\": \"numTechTickets\",\n      \"properties\": {\n        \"dtype\": \"number\",\n        \"std\": 2489.5395368896015,\n        \"min\": 0.0,\n        \"max\": 7043.0,\n        \"num_unique_values\": 5,\n        \"samples\": [\n          0.41956552605423825,\n          9.0,\n          1.2501169425848515\n        ],\n        \"semantic_type\": \"\",\n        \"description\": \"\"\n      }\n    },\n    {\n      \"column\": \"Churn\",\n      \"properties\": {\n        \"dtype\": \"number\",\n        \"std\": 2489.939844235915,\n        \"min\": 0.0,\n        \"max\": 7043.0,\n        \"num_unique_values\": 5,\n        \"samples\": [\n          0.2653698707936959,\n          1.0,\n          0.44156130512195013\n        ],\n        \"semantic_type\": \"\",\n        \"description\": \"\"\n      }\n    }\n  ]\n}",
       "type": "dataframe"
      },
      "text/html": [
       "\n",
       "  <div id=\"df-6da8d2e6-70ef-4699-bd4d-6b635a4216e1\" class=\"colab-df-container\">\n",
       "    <div>\n",
       "<style scoped>\n",
       "    .dataframe tbody tr th:only-of-type {\n",
       "        vertical-align: middle;\n",
       "    }\n",
       "\n",
       "    .dataframe tbody tr th {\n",
       "        vertical-align: top;\n",
       "    }\n",
       "\n",
       "    .dataframe thead th {\n",
       "        text-align: right;\n",
       "    }\n",
       "</style>\n",
       "<table border=\"1\" class=\"dataframe\">\n",
       "  <thead>\n",
       "    <tr style=\"text-align: right;\">\n",
       "      <th></th>\n",
       "      <th>gender</th>\n",
       "      <th>SeniorCitizen</th>\n",
       "      <th>Partner</th>\n",
       "      <th>Dependents</th>\n",
       "      <th>tenure</th>\n",
       "      <th>PaperlessBilling</th>\n",
       "      <th>MonthlyCharges</th>\n",
       "      <th>numAdminTickets</th>\n",
       "      <th>numTechTickets</th>\n",
       "      <th>Churn</th>\n",
       "    </tr>\n",
       "  </thead>\n",
       "  <tbody>\n",
       "    <tr>\n",
       "      <th>count</th>\n",
       "      <td>7043.000000</td>\n",
       "      <td>7043.000000</td>\n",
       "      <td>7043.000000</td>\n",
       "      <td>7043.000000</td>\n",
       "      <td>7043.000000</td>\n",
       "      <td>7043.000000</td>\n",
       "      <td>7043.000000</td>\n",
       "      <td>7043.000000</td>\n",
       "      <td>7043.000000</td>\n",
       "      <td>7043.000000</td>\n",
       "    </tr>\n",
       "    <tr>\n",
       "      <th>mean</th>\n",
       "      <td>0.504756</td>\n",
       "      <td>0.162147</td>\n",
       "      <td>0.483033</td>\n",
       "      <td>0.299588</td>\n",
       "      <td>32.371149</td>\n",
       "      <td>0.592219</td>\n",
       "      <td>64.761692</td>\n",
       "      <td>0.515689</td>\n",
       "      <td>0.419566</td>\n",
       "      <td>0.265370</td>\n",
       "    </tr>\n",
       "    <tr>\n",
       "      <th>std</th>\n",
       "      <td>0.500013</td>\n",
       "      <td>0.368612</td>\n",
       "      <td>0.499748</td>\n",
       "      <td>0.458110</td>\n",
       "      <td>24.559481</td>\n",
       "      <td>0.491457</td>\n",
       "      <td>30.090047</td>\n",
       "      <td>1.275299</td>\n",
       "      <td>1.250117</td>\n",
       "      <td>0.441561</td>\n",
       "    </tr>\n",
       "    <tr>\n",
       "      <th>min</th>\n",
       "      <td>0.000000</td>\n",
       "      <td>0.000000</td>\n",
       "      <td>0.000000</td>\n",
       "      <td>0.000000</td>\n",
       "      <td>0.000000</td>\n",
       "      <td>0.000000</td>\n",
       "      <td>18.250000</td>\n",
       "      <td>0.000000</td>\n",
       "      <td>0.000000</td>\n",
       "      <td>0.000000</td>\n",
       "    </tr>\n",
       "    <tr>\n",
       "      <th>25%</th>\n",
       "      <td>0.000000</td>\n",
       "      <td>0.000000</td>\n",
       "      <td>0.000000</td>\n",
       "      <td>0.000000</td>\n",
       "      <td>9.000000</td>\n",
       "      <td>0.000000</td>\n",
       "      <td>35.500000</td>\n",
       "      <td>0.000000</td>\n",
       "      <td>0.000000</td>\n",
       "      <td>0.000000</td>\n",
       "    </tr>\n",
       "    <tr>\n",
       "      <th>50%</th>\n",
       "      <td>1.000000</td>\n",
       "      <td>0.000000</td>\n",
       "      <td>0.000000</td>\n",
       "      <td>0.000000</td>\n",
       "      <td>29.000000</td>\n",
       "      <td>1.000000</td>\n",
       "      <td>70.350000</td>\n",
       "      <td>0.000000</td>\n",
       "      <td>0.000000</td>\n",
       "      <td>0.000000</td>\n",
       "    </tr>\n",
       "    <tr>\n",
       "      <th>75%</th>\n",
       "      <td>1.000000</td>\n",
       "      <td>0.000000</td>\n",
       "      <td>1.000000</td>\n",
       "      <td>1.000000</td>\n",
       "      <td>55.000000</td>\n",
       "      <td>1.000000</td>\n",
       "      <td>89.850000</td>\n",
       "      <td>0.000000</td>\n",
       "      <td>0.000000</td>\n",
       "      <td>1.000000</td>\n",
       "    </tr>\n",
       "    <tr>\n",
       "      <th>max</th>\n",
       "      <td>1.000000</td>\n",
       "      <td>1.000000</td>\n",
       "      <td>1.000000</td>\n",
       "      <td>1.000000</td>\n",
       "      <td>72.000000</td>\n",
       "      <td>1.000000</td>\n",
       "      <td>118.750000</td>\n",
       "      <td>5.000000</td>\n",
       "      <td>9.000000</td>\n",
       "      <td>1.000000</td>\n",
       "    </tr>\n",
       "  </tbody>\n",
       "</table>\n",
       "</div>\n",
       "    <div class=\"colab-df-buttons\">\n",
       "\n",
       "  <div class=\"colab-df-container\">\n",
       "    <button class=\"colab-df-convert\" onclick=\"convertToInteractive('df-6da8d2e6-70ef-4699-bd4d-6b635a4216e1')\"\n",
       "            title=\"Convert this dataframe to an interactive table.\"\n",
       "            style=\"display:none;\">\n",
       "\n",
       "  <svg xmlns=\"http://www.w3.org/2000/svg\" height=\"24px\" viewBox=\"0 -960 960 960\">\n",
       "    <path d=\"M120-120v-720h720v720H120Zm60-500h600v-160H180v160Zm220 220h160v-160H400v160Zm0 220h160v-160H400v160ZM180-400h160v-160H180v160Zm440 0h160v-160H620v160ZM180-180h160v-160H180v160Zm440 0h160v-160H620v160Z\"/>\n",
       "  </svg>\n",
       "    </button>\n",
       "\n",
       "  <style>\n",
       "    .colab-df-container {\n",
       "      display:flex;\n",
       "      gap: 12px;\n",
       "    }\n",
       "\n",
       "    .colab-df-convert {\n",
       "      background-color: #E8F0FE;\n",
       "      border: none;\n",
       "      border-radius: 50%;\n",
       "      cursor: pointer;\n",
       "      display: none;\n",
       "      fill: #1967D2;\n",
       "      height: 32px;\n",
       "      padding: 0 0 0 0;\n",
       "      width: 32px;\n",
       "    }\n",
       "\n",
       "    .colab-df-convert:hover {\n",
       "      background-color: #E2EBFA;\n",
       "      box-shadow: 0px 1px 2px rgba(60, 64, 67, 0.3), 0px 1px 3px 1px rgba(60, 64, 67, 0.15);\n",
       "      fill: #174EA6;\n",
       "    }\n",
       "\n",
       "    .colab-df-buttons div {\n",
       "      margin-bottom: 4px;\n",
       "    }\n",
       "\n",
       "    [theme=dark] .colab-df-convert {\n",
       "      background-color: #3B4455;\n",
       "      fill: #D2E3FC;\n",
       "    }\n",
       "\n",
       "    [theme=dark] .colab-df-convert:hover {\n",
       "      background-color: #434B5C;\n",
       "      box-shadow: 0px 1px 3px 1px rgba(0, 0, 0, 0.15);\n",
       "      filter: drop-shadow(0px 1px 2px rgba(0, 0, 0, 0.3));\n",
       "      fill: #FFFFFF;\n",
       "    }\n",
       "  </style>\n",
       "\n",
       "    <script>\n",
       "      const buttonEl =\n",
       "        document.querySelector('#df-6da8d2e6-70ef-4699-bd4d-6b635a4216e1 button.colab-df-convert');\n",
       "      buttonEl.style.display =\n",
       "        google.colab.kernel.accessAllowed ? 'block' : 'none';\n",
       "\n",
       "      async function convertToInteractive(key) {\n",
       "        const element = document.querySelector('#df-6da8d2e6-70ef-4699-bd4d-6b635a4216e1');\n",
       "        const dataTable =\n",
       "          await google.colab.kernel.invokeFunction('convertToInteractive',\n",
       "                                                    [key], {});\n",
       "        if (!dataTable) return;\n",
       "\n",
       "        const docLinkHtml = 'Like what you see? Visit the ' +\n",
       "          '<a target=\"_blank\" href=https://colab.research.google.com/notebooks/data_table.ipynb>data table notebook</a>'\n",
       "          + ' to learn more about interactive tables.';\n",
       "        element.innerHTML = '';\n",
       "        dataTable['output_type'] = 'display_data';\n",
       "        await google.colab.output.renderOutput(dataTable, element);\n",
       "        const docLink = document.createElement('div');\n",
       "        docLink.innerHTML = docLinkHtml;\n",
       "        element.appendChild(docLink);\n",
       "      }\n",
       "    </script>\n",
       "  </div>\n",
       "\n",
       "\n",
       "<div id=\"df-50b9e612-59eb-496d-a12d-097aeda0ea9a\">\n",
       "  <button class=\"colab-df-quickchart\" onclick=\"quickchart('df-50b9e612-59eb-496d-a12d-097aeda0ea9a')\"\n",
       "            title=\"Suggest charts\"\n",
       "            style=\"display:none;\">\n",
       "\n",
       "<svg xmlns=\"http://www.w3.org/2000/svg\" height=\"24px\"viewBox=\"0 0 24 24\"\n",
       "     width=\"24px\">\n",
       "    <g>\n",
       "        <path d=\"M19 3H5c-1.1 0-2 .9-2 2v14c0 1.1.9 2 2 2h14c1.1 0 2-.9 2-2V5c0-1.1-.9-2-2-2zM9 17H7v-7h2v7zm4 0h-2V7h2v10zm4 0h-2v-4h2v4z\"/>\n",
       "    </g>\n",
       "</svg>\n",
       "  </button>\n",
       "\n",
       "<style>\n",
       "  .colab-df-quickchart {\n",
       "      --bg-color: #E8F0FE;\n",
       "      --fill-color: #1967D2;\n",
       "      --hover-bg-color: #E2EBFA;\n",
       "      --hover-fill-color: #174EA6;\n",
       "      --disabled-fill-color: #AAA;\n",
       "      --disabled-bg-color: #DDD;\n",
       "  }\n",
       "\n",
       "  [theme=dark] .colab-df-quickchart {\n",
       "      --bg-color: #3B4455;\n",
       "      --fill-color: #D2E3FC;\n",
       "      --hover-bg-color: #434B5C;\n",
       "      --hover-fill-color: #FFFFFF;\n",
       "      --disabled-bg-color: #3B4455;\n",
       "      --disabled-fill-color: #666;\n",
       "  }\n",
       "\n",
       "  .colab-df-quickchart {\n",
       "    background-color: var(--bg-color);\n",
       "    border: none;\n",
       "    border-radius: 50%;\n",
       "    cursor: pointer;\n",
       "    display: none;\n",
       "    fill: var(--fill-color);\n",
       "    height: 32px;\n",
       "    padding: 0;\n",
       "    width: 32px;\n",
       "  }\n",
       "\n",
       "  .colab-df-quickchart:hover {\n",
       "    background-color: var(--hover-bg-color);\n",
       "    box-shadow: 0 1px 2px rgba(60, 64, 67, 0.3), 0 1px 3px 1px rgba(60, 64, 67, 0.15);\n",
       "    fill: var(--button-hover-fill-color);\n",
       "  }\n",
       "\n",
       "  .colab-df-quickchart-complete:disabled,\n",
       "  .colab-df-quickchart-complete:disabled:hover {\n",
       "    background-color: var(--disabled-bg-color);\n",
       "    fill: var(--disabled-fill-color);\n",
       "    box-shadow: none;\n",
       "  }\n",
       "\n",
       "  .colab-df-spinner {\n",
       "    border: 2px solid var(--fill-color);\n",
       "    border-color: transparent;\n",
       "    border-bottom-color: var(--fill-color);\n",
       "    animation:\n",
       "      spin 1s steps(1) infinite;\n",
       "  }\n",
       "\n",
       "  @keyframes spin {\n",
       "    0% {\n",
       "      border-color: transparent;\n",
       "      border-bottom-color: var(--fill-color);\n",
       "      border-left-color: var(--fill-color);\n",
       "    }\n",
       "    20% {\n",
       "      border-color: transparent;\n",
       "      border-left-color: var(--fill-color);\n",
       "      border-top-color: var(--fill-color);\n",
       "    }\n",
       "    30% {\n",
       "      border-color: transparent;\n",
       "      border-left-color: var(--fill-color);\n",
       "      border-top-color: var(--fill-color);\n",
       "      border-right-color: var(--fill-color);\n",
       "    }\n",
       "    40% {\n",
       "      border-color: transparent;\n",
       "      border-right-color: var(--fill-color);\n",
       "      border-top-color: var(--fill-color);\n",
       "    }\n",
       "    60% {\n",
       "      border-color: transparent;\n",
       "      border-right-color: var(--fill-color);\n",
       "    }\n",
       "    80% {\n",
       "      border-color: transparent;\n",
       "      border-right-color: var(--fill-color);\n",
       "      border-bottom-color: var(--fill-color);\n",
       "    }\n",
       "    90% {\n",
       "      border-color: transparent;\n",
       "      border-bottom-color: var(--fill-color);\n",
       "    }\n",
       "  }\n",
       "</style>\n",
       "\n",
       "  <script>\n",
       "    async function quickchart(key) {\n",
       "      const quickchartButtonEl =\n",
       "        document.querySelector('#' + key + ' button');\n",
       "      quickchartButtonEl.disabled = true;  // To prevent multiple clicks.\n",
       "      quickchartButtonEl.classList.add('colab-df-spinner');\n",
       "      try {\n",
       "        const charts = await google.colab.kernel.invokeFunction(\n",
       "            'suggestCharts', [key], {});\n",
       "      } catch (error) {\n",
       "        console.error('Error during call to suggestCharts:', error);\n",
       "      }\n",
       "      quickchartButtonEl.classList.remove('colab-df-spinner');\n",
       "      quickchartButtonEl.classList.add('colab-df-quickchart-complete');\n",
       "    }\n",
       "    (() => {\n",
       "      let quickchartButtonEl =\n",
       "        document.querySelector('#df-50b9e612-59eb-496d-a12d-097aeda0ea9a button');\n",
       "      quickchartButtonEl.style.display =\n",
       "        google.colab.kernel.accessAllowed ? 'block' : 'none';\n",
       "    })();\n",
       "  </script>\n",
       "</div>\n",
       "\n",
       "    </div>\n",
       "  </div>\n"
      ],
      "text/plain": [
       "            gender  SeniorCitizen      Partner   Dependents       tenure  \\\n",
       "count  7043.000000    7043.000000  7043.000000  7043.000000  7043.000000   \n",
       "mean      0.504756       0.162147     0.483033     0.299588    32.371149   \n",
       "std       0.500013       0.368612     0.499748     0.458110    24.559481   \n",
       "min       0.000000       0.000000     0.000000     0.000000     0.000000   \n",
       "25%       0.000000       0.000000     0.000000     0.000000     9.000000   \n",
       "50%       1.000000       0.000000     0.000000     0.000000    29.000000   \n",
       "75%       1.000000       0.000000     1.000000     1.000000    55.000000   \n",
       "max       1.000000       1.000000     1.000000     1.000000    72.000000   \n",
       "\n",
       "       PaperlessBilling  MonthlyCharges  numAdminTickets  numTechTickets  \\\n",
       "count       7043.000000     7043.000000      7043.000000     7043.000000   \n",
       "mean           0.592219       64.761692         0.515689        0.419566   \n",
       "std            0.491457       30.090047         1.275299        1.250117   \n",
       "min            0.000000       18.250000         0.000000        0.000000   \n",
       "25%            0.000000       35.500000         0.000000        0.000000   \n",
       "50%            1.000000       70.350000         0.000000        0.000000   \n",
       "75%            1.000000       89.850000         0.000000        0.000000   \n",
       "max            1.000000      118.750000         5.000000        9.000000   \n",
       "\n",
       "             Churn  \n",
       "count  7043.000000  \n",
       "mean      0.265370  \n",
       "std       0.441561  \n",
       "min       0.000000  \n",
       "25%       0.000000  \n",
       "50%       0.000000  \n",
       "75%       1.000000  \n",
       "max       1.000000  "
      ]
     },
     "execution_count": 25,
     "metadata": {},
     "output_type": "execute_result"
    }
   ],
   "source": [
    "#check basic statistics\n",
    "df.describe()"
   ]
  },
  {
   "cell_type": "code",
   "execution_count": 26,
   "metadata": {
    "colab": {
     "base_uri": "https://localhost:8080/",
     "height": 610
    },
    "executionInfo": {
     "elapsed": 990,
     "status": "ok",
     "timestamp": 1741660772044,
     "user": {
      "displayName": "Tan Huynh Trong",
      "userId": "10450054496820116452"
     },
     "user_tz": -660
    },
    "id": "WZ5ntxigDmVq",
    "outputId": "809313e4-62df-4488-85e8-ab2224986efd"
   },
   "outputs": [
    {
     "data": {
      "image/png": "[encoded data removed]",
      "text/plain": [
       "<Figure size 1500x1000 with 4 Axes>"
      ]
     },
     "metadata": {},
     "output_type": "display_data"
    }
   ],
   "source": [
    "# Numerical variables - compare distributions\n",
    "numerical_cols = ['tenure', 'MonthlyCharges', 'numAdminTickets',\n",
    "                 'numTechTickets']\n",
    "\n",
    "plt.figure(figsize=(15, 10))\n",
    "for i, column in enumerate(numerical_cols, 1):\n",
    "    plt.subplot(3, 3, i)\n",
    "    sns.boxplot(x='Churn', y=column, data=df)\n",
    "    plt.title(f'Churn by {column}')\n",
    "plt.tight_layout()\n",
    "plt.show()\n"
   ]
  },
  {
   "cell_type": "code",
   "execution_count": 30,
   "metadata": {
    "colab": {
     "base_uri": "https://localhost:8080/"
    },
    "collapsed": true,
    "executionInfo": {
     "elapsed": 46,
     "status": "ok",
     "timestamp": 1741661120762,
     "user": {
      "displayName": "Tan Huynh Trong",
      "userId": "10450054496820116452"
     },
     "user_tz": -660
    },
    "id": "vZpK1_HADo07",
    "outputId": "23b3c7f4-2829-4113-9374-e56b8f01648f"
   },
   "outputs": [
    {
     "name": "stdout",
     "output_type": "stream",
     "text": [
      "Frequency counts for Churn:\n",
      "Churn\n",
      "0    5174\n",
      "1    1869\n",
      "Name: count, dtype: int64\n",
      "\n",
      "\n",
      "Frequency counts for gender:\n",
      "gender\n",
      "1    3555\n",
      "0    3488\n",
      "Name: count, dtype: int64\n",
      "\n",
      "\n",
      "Frequency counts for SeniorCitizen:\n",
      "SeniorCitizen\n",
      "0    5901\n",
      "1    1142\n",
      "Name: count, dtype: int64\n",
      "\n",
      "\n",
      "Frequency counts for Partner:\n",
      "Partner\n",
      "0    3641\n",
      "1    3402\n",
      "Name: count, dtype: int64\n",
      "\n",
      "\n",
      "Frequency counts for Dependents:\n",
      "Dependents\n",
      "0    4933\n",
      "1    2110\n",
      "Name: count, dtype: int64\n",
      "\n",
      "\n",
      "Frequency counts for PhoneService:\n",
      "PhoneService\n",
      "Yes    6361\n",
      "No      682\n",
      "Name: count, dtype: int64\n",
      "\n",
      "\n",
      "Frequency counts for PaperlessBilling:\n",
      "PaperlessBilling\n",
      "1    4171\n",
      "0    2872\n",
      "Name: count, dtype: int64\n",
      "\n",
      "\n",
      "Frequency counts for MultipleLines:\n",
      "MultipleLines\n",
      "No                  3390\n",
      "Yes                 2971\n",
      "No phone service     682\n",
      "Name: count, dtype: int64\n",
      "\n",
      "\n",
      "Frequency counts for InternetService:\n",
      "InternetService\n",
      "Fiber optic    3096\n",
      "DSL            2421\n",
      "No             1526\n",
      "Name: count, dtype: int64\n",
      "\n",
      "\n",
      "Frequency counts for OnlineSecurity:\n",
      "OnlineSecurity\n",
      "No                     3498\n",
      "Yes                    2019\n",
      "No internet service    1526\n",
      "Name: count, dtype: int64\n",
      "\n",
      "\n",
      "Frequency counts for OnlineBackup:\n",
      "OnlineBackup\n",
      "No                     3088\n",
      "Yes                    2429\n",
      "No internet service    1526\n",
      "Name: count, dtype: int64\n",
      "\n",
      "\n",
      "Frequency counts for DeviceProtection:\n",
      "DeviceProtection\n",
      "No                     3095\n",
      "Yes                    2422\n",
      "No internet service    1526\n",
      "Name: count, dtype: int64\n",
      "\n",
      "\n",
      "Frequency counts for TechSupport:\n",
      "TechSupport\n",
      "No                     3473\n",
      "Yes                    2044\n",
      "No internet service    1526\n",
      "Name: count, dtype: int64\n",
      "\n",
      "\n",
      "Frequency counts for StreamingTV:\n",
      "StreamingTV\n",
      "No                     2810\n",
      "Yes                    2707\n",
      "No internet service    1526\n",
      "Name: count, dtype: int64\n",
      "\n",
      "\n",
      "Frequency counts for Contract:\n",
      "Contract\n",
      "Month-to-month    3875\n",
      "Two year          1695\n",
      "One year          1473\n",
      "Name: count, dtype: int64\n",
      "\n",
      "\n",
      "Frequency counts for PaymentMethod:\n",
      "PaymentMethod\n",
      "Electronic check             2365\n",
      "Mailed check                 1612\n",
      "Bank transfer (automatic)    1544\n",
      "Credit card (automatic)      1522\n",
      "Name: count, dtype: int64\n",
      "\n",
      "\n"
     ]
    }
   ],
   "source": [
    "# List of categorical columns\n",
    "categorical_cols = ['Churn', 'gender', 'SeniorCitizen', 'Partner', 'Dependents', 'PhoneService', 'PaperlessBilling', 'MultipleLines',\n",
    "                     'InternetService', 'OnlineSecurity', 'OnlineBackup', 'DeviceProtection', 'TechSupport', 'StreamingTV',\n",
    "                    'Contract', 'PaymentMethod' ]\n",
    "\n",
    "# Display frequency counts for each categorical column\n",
    "for col in categorical_cols:\n",
    "    print(f\"Frequency counts for {col}:\")\n",
    "    print(df[col].value_counts())\n",
    "    print(\"\\n\")"
   ]
  },
  {
   "cell_type": "markdown",
   "metadata": {
    "id": "r8hRpZO1ooSR"
   },
   "source": []
  },
  {
   "cell_type": "markdown",
   "metadata": {
    "id": "zM1hY4VxiE2j"
   },
   "source": [
    "# 4. Churn Analysis"
   ]
  },
  {
   "cell_type": "code",
   "execution_count": 31,
   "metadata": {
    "colab": {
     "base_uri": "https://localhost:8080/"
    },
    "executionInfo": {
     "elapsed": 17,
     "status": "ok",
     "timestamp": 1741661194638,
     "user": {
      "displayName": "Tan Huynh Trong",
      "userId": "10450054496820116452"
     },
     "user_tz": -660
    },
    "id": "FNwe9qnJiK7Z",
    "outputId": "1a88c581-756a-463b-840b-88a849fc99e2"
   },
   "outputs": [
    {
     "name": "stdout",
     "output_type": "stream",
     "text": [
      "Overall Churn Rate: 26.54%\n"
     ]
    }
   ],
   "source": [
    "overall_churn_rate = df['Churn'].mean() * 100\n",
    "print(f\"Overall Churn Rate: {overall_churn_rate:.2f}%\")"
   ]
  },
  {
   "cell_type": "code",
   "execution_count": 32,
   "metadata": {
    "colab": {
     "base_uri": "https://localhost:8080/"
    },
    "executionInfo": {
     "elapsed": 10,
     "status": "ok",
     "timestamp": 1741661211345,
     "user": {
      "displayName": "Tan Huynh Trong",
      "userId": "10450054496820116452"
     },
     "user_tz": -660
    },
    "id": "miDG3Me9GPA1",
    "outputId": "ce4fc526-ebfd-4f0c-c2d5-bf566defd321"
   },
   "outputs": [
    {
     "data": {
      "text/plain": [
       "Index(['customerID', 'gender', 'SeniorCitizen', 'Partner', 'Dependents',\n",
       "       'tenure', 'PhoneService', 'MultipleLines', 'InternetService',\n",
       "       'OnlineSecurity', 'OnlineBackup', 'DeviceProtection', 'TechSupport',\n",
       "       'StreamingTV', 'StreamingMovies', 'Contract', 'PaperlessBilling',\n",
       "       'PaymentMethod', 'MonthlyCharges', 'TotalCharges', 'numAdminTickets',\n",
       "       'numTechTickets', 'Churn'],\n",
       "      dtype='object')"
      ]
     },
     "execution_count": 32,
     "metadata": {},
     "output_type": "execute_result"
    }
   ],
   "source": [
    "df.columns"
   ]
  },
  {
   "cell_type": "code",
   "execution_count": 33,
   "metadata": {
    "colab": {
     "base_uri": "https://localhost:8080/",
     "height": 178
    },
    "executionInfo": {
     "elapsed": 4,
     "status": "ok",
     "timestamp": 1741661222363,
     "user": {
      "displayName": "Tan Huynh Trong",
      "userId": "10450054496820116452"
     },
     "user_tz": -660
    },
    "id": "7E4I7vupGSR5",
    "outputId": "257d808d-afc0-4de7-9c06-4c1299dc3a15"
   },
   "outputs": [
    {
     "data": {
      "text/html": [
       "<div>\n",
       "<style scoped>\n",
       "    .dataframe tbody tr th:only-of-type {\n",
       "        vertical-align: middle;\n",
       "    }\n",
       "\n",
       "    .dataframe tbody tr th {\n",
       "        vertical-align: top;\n",
       "    }\n",
       "\n",
       "    .dataframe thead th {\n",
       "        text-align: right;\n",
       "    }\n",
       "</style>\n",
       "<table border=\"1\" class=\"dataframe\">\n",
       "  <thead>\n",
       "    <tr style=\"text-align: right;\">\n",
       "      <th></th>\n",
       "      <th>count</th>\n",
       "    </tr>\n",
       "    <tr>\n",
       "      <th>Churn</th>\n",
       "      <th></th>\n",
       "    </tr>\n",
       "  </thead>\n",
       "  <tbody>\n",
       "    <tr>\n",
       "      <th>0</th>\n",
       "      <td>5174</td>\n",
       "    </tr>\n",
       "    <tr>\n",
       "      <th>1</th>\n",
       "      <td>1869</td>\n",
       "    </tr>\n",
       "  </tbody>\n",
       "</table>\n",
       "</div><br><label><b>dtype:</b> int64</label>"
      ],
      "text/plain": [
       "Churn\n",
       "0    5174\n",
       "1    1869\n",
       "Name: count, dtype: int64"
      ]
     },
     "execution_count": 33,
     "metadata": {},
     "output_type": "execute_result"
    }
   ],
   "source": [
    "df['Churn'].value_counts()"
   ]
  },
  {
   "cell_type": "code",
   "execution_count": 38,
   "metadata": {
    "colab": {
     "base_uri": "https://localhost:8080/",
     "height": 368
    },
    "executionInfo": {
     "elapsed": 71,
     "status": "ok",
     "timestamp": 1741661428462,
     "user": {
      "displayName": "Tan Huynh Trong",
      "userId": "10450054496820116452"
     },
     "user_tz": -660
    },
    "id": "L9keS-0rGWm1",
    "outputId": "05fa772f-8a78-4cee-a363-e6ebedcbf6bc"
   },
   "outputs": [
    {
     "data": {
      "image/png": "[encoded data removed]",
      "text/plain": [
       "<Figure size 400x400 with 1 Axes>"
      ]
     },
     "metadata": {},
     "output_type": "display_data"
    }
   ],
   "source": [
    "# Get churn counts\n",
    "churn_counts = df['Churn'].value_counts()\n",
    "\n",
    "# Define your mapping\n",
    "churn_labels = {0: 'No', 1: 'Yes'}\n",
    "\n",
    "# Define explode (still exploding the \"Yes\" slice)\n",
    "explode = (0, 0.1)\n",
    "\n",
    "# Get values in correct order\n",
    "values = [churn_counts.get(0, 0), churn_counts.get(1, 0)]\n",
    "labels = ['No', 'Yes']\n",
    "\n",
    "# Plot the pie chart\n",
    "plt.figure(figsize=(4, 4))\n",
    "plt.pie(values,\n",
    "        labels=labels,\n",
    "        autopct='%1.1f%%',\n",
    "        startangle=90,\n",
    "        colors=['#66b3ff','#ff9999'],\n",
    "        explode=explode)\n",
    "plt.title('Churn Distribution')\n",
    "plt.show()"
   ]
  },
  {
   "cell_type": "markdown",
   "metadata": {
    "id": "clPAOo8WokZy"
   },
   "source": [
    "# **4.1 Customer demographic**"
   ]
  },
  {
   "cell_type": "code",
   "execution_count": 76,
   "metadata": {
    "colab": {
     "base_uri": "https://localhost:8080/",
     "height": 653
    },
    "executionInfo": {
     "elapsed": 1173,
     "status": "ok",
     "timestamp": 1741672113218,
     "user": {
      "displayName": "Tan Huynh Trong",
      "userId": "10450054496820116452"
     },
     "user_tz": -660
    },
    "id": "_0gmWu4su09n",
    "outputId": "8b1f3cd5-0be1-4d75-9e89-467112d3f579"
   },
   "outputs": [
    {
     "data": {
      "image/png": "[encoded data removed]",
      "text/plain": [
       "<Figure size 1400x700 with 4 Axes>"
      ]
     },
     "metadata": {},
     "output_type": "display_data"
    }
   ],
   "source": [
    "plt.figure(figsize=(14, 7))\n",
    "\n",
    "# Subplot 1: Churn by Gender\n",
    "plt.subplot(2, 2, 1)\n",
    "sns.countplot(x='gender', hue='Churn', data=df)\n",
    "plt.xlabel('Gender')\n",
    "plt.title('Churn by Gender')\n",
    "\n",
    "# Subplot 2: Churn by Senior Citizen\n",
    "plt.subplot(2, 2, 2)\n",
    "sns.countplot(x='SeniorCitizen', hue='Churn', data=df)\n",
    "plt.xlabel('Senior Citizen')\n",
    "plt.title('Churn by Senior Citizen')\n",
    "\n",
    "# Subplot 3: Churn by Partner Status\n",
    "plt.subplot(2, 2, 3)\n",
    "sns.countplot(x='Partner', hue='Churn', data=df)\n",
    "plt.xlabel('Partner Status')\n",
    "plt.title('Churn by Partner Status')\n",
    "\n",
    "# Subplot 4: Churn by Dependents\n",
    "plt.subplot(2, 2, 4)\n",
    "sns.countplot(x='Dependents', hue='Churn', data=df)\n",
    "plt.xlabel('Dependents')\n",
    "plt.title('Churn by Dependents')\n",
    "\n",
    "plt.tight_layout()\n",
    "plt.show()\n"
   ]
  },
  {
   "cell_type": "code",
   "execution_count": 67,
   "metadata": {
    "colab": {
     "base_uri": "https://localhost:8080/",
     "height": 489
    },
    "executionInfo": {
     "elapsed": 136,
     "status": "ok",
     "timestamp": 1741671520516,
     "user": {
      "displayName": "Tan Huynh Trong",
      "userId": "10450054496820116452"
     },
     "user_tz": -660
    },
    "id": "gyoPy3kZtQjP",
    "outputId": "146f1723-2357-4dd8-e821-108649704b06"
   },
   "outputs": [
    {
     "data": {
      "text/plain": [
       "Text(0.5, 1.0, 'Churn by Tenure')"
      ]
     },
     "execution_count": 67,
     "metadata": {},
     "output_type": "execute_result"
    },
    {
     "data": {
      "image/png": "[encoded data removed]",
      "text/plain": [
       "<Figure size 640x480 with 1 Axes>"
      ]
     },
     "metadata": {},
     "output_type": "display_data"
    }
   ],
   "source": [
    "sns.boxplot(x = 'Churn',\n",
    "            y = 'tenure',\n",
    "            data = df,\n",
    "            fliersize = 0)\n",
    "\n",
    "plt.xlabel(\"Churn (0 = No, 1 = Yes)\")\n",
    "plt.ylabel(\"Tenure (Months)\")\n",
    "plt.title(\"Churn by Tenure\")\n"
   ]
  },
  {
   "cell_type": "code",
   "execution_count": 66,
   "metadata": {
    "colab": {
     "base_uri": "https://localhost:8080/",
     "height": 472
    },
    "executionInfo": {
     "elapsed": 468,
     "status": "ok",
     "timestamp": 1741671491343,
     "user": {
      "displayName": "Tan Huynh Trong",
      "userId": "10450054496820116452"
     },
     "user_tz": -660
    },
    "id": "I9UjitjhtAt_",
    "outputId": "bfa4c625-ceb7-4a3f-ca3d-022598e79e56"
   },
   "outputs": [
    {
     "data": {
      "image/png": "[encoded data removed]",
      "text/plain": [
       "<Figure size 640x480 with 1 Axes>"
      ]
     },
     "metadata": {},
     "output_type": "display_data"
    }
   ],
   "source": [
    "sns.boxplot(x = 'Churn',\n",
    "            y = 'tenure',\n",
    "            data = df,\n",
    "            fliersize = 0,\n",
    "            hue = \"SeniorCitizen\")\n",
    "plt.legend(bbox_to_anchor=(1.05, 1), loc='upper left')\n",
    "\n",
    "plt.xlabel(\"Churn (0 = No, 1 = Yes)\")\n",
    "plt.ylabel(\"Tenure (Months)\")\n",
    "plt.title(\"Churn by Tenure & Senior Citizen Status\")\n",
    "\n",
    "plt.show()"
   ]
  },
  {
   "cell_type": "markdown",
   "metadata": {
    "id": "A4kVRhhXwO20"
   },
   "source": [
    "# **4.2 Service usage and Billings**"
   ]
  },
  {
   "cell_type": "code",
   "execution_count": 95,
   "metadata": {
    "colab": {
     "base_uri": "https://localhost:8080/",
     "height": 608
    },
    "executionInfo": {
     "elapsed": 1051,
     "status": "ok",
     "timestamp": 1741674401106,
     "user": {
      "displayName": "Tan Huynh Trong",
      "userId": "10450054496820116452"
     },
     "user_tz": -660
    },
    "id": "ik7JbcKe33wo",
    "outputId": "46f6ff70-eace-4a29-ffa3-b7a1b85aeb82"
   },
   "outputs": [
    {
     "data": {
      "image/png": "[encoded data removed]",
      "text/plain": [
       "<Figure size 1200x600 with 2 Axes>"
      ]
     },
     "metadata": {},
     "output_type": "display_data"
    }
   ],
   "source": [
    "# Calculate churn rate by contract\n",
    "contract_churn = df.groupby('Contract')['Churn'].agg(['mean', 'count'])\n",
    "contract_churn['churn_rate'] = contract_churn['mean'] * 100\n",
    "contract_churn = contract_churn.sort_values('churn_rate', ascending=False)\n",
    "\n",
    "# Calculate churn rate by billing types\n",
    "bill_churn = df.groupby('PaperlessBilling')['Churn'].agg(['mean', 'count'])\n",
    "bill_churn['churn_rate'] = bill_churn['mean'] * 100\n",
    "bill_churn = bill_churn.sort_values('churn_rate', ascending=False)\n",
    "\n",
    "plt.figure(figsize=(12, 6))\n",
    "\n",
    "plt.subplot(1, 2, 1)\n",
    "sns.barplot(x=contract_churn.index, y='churn_rate', data=contract_churn)\n",
    "plt.title('Churn Rate by contract type')\n",
    "plt.ylabel('Churn Rate (%)')\n",
    "plt.xlabel('Contract')\n",
    "plt.xticks(rotation=0)\n",
    "plt.axhline(y=df['Churn'].mean()*100, color='r', linestyle='--', label='Average Churn Rate')\n",
    "plt.legend()\n",
    "\n",
    "plt.subplot(1, 2, 2)\n",
    "sns.barplot(x=bill_churn.index, y='churn_rate', data=bill_churn)\n",
    "plt.title('Churn Rate by Billing type')\n",
    "plt.ylabel('Churn Rate (%)')\n",
    "plt.xlabel('Paperless Billing')\n",
    "plt.xticks(rotation=0)\n",
    "plt.xticks(ticks=[0, 1], labels=['No', 'Yes'])\n",
    "plt.axhline(y=df['Churn'].mean()*100, color='r', linestyle='--', label='Average Churn Rate')\n",
    "\n",
    "plt.tight_layout()\n",
    "plt.show()\n",
    "\n"
   ]
  },
  {
   "cell_type": "code",
   "execution_count": 79,
   "metadata": {
    "colab": {
     "base_uri": "https://localhost:8080/",
     "height": 608
    },
    "executionInfo": {
     "elapsed": 1233,
     "status": "ok",
     "timestamp": 1741673257976,
     "user": {
      "displayName": "Tan Huynh Trong",
      "userId": "10450054496820116452"
     },
     "user_tz": -660
    },
    "id": "9cBH4mxLJMlE",
    "outputId": "c398fc93-31ec-41d6-bdbc-993b85afe302"
   },
   "outputs": [
    {
     "data": {
      "image/png": "[encoded data removed]",
      "text/plain": [
       "<Figure size 1200x600 with 4 Axes>"
      ]
     },
     "metadata": {},
     "output_type": "display_data"
    }
   ],
   "source": [
    "# Plot categorical relationships\n",
    "plt.figure(figsize=(12, 6))\n",
    "\n",
    "# Churn by Internet Service\n",
    "plt.subplot(2, 2, 1)\n",
    "sns.countplot(x='InternetService', hue='Churn', data=df)\n",
    "plt.xlabel('InternetService')\n",
    "plt.title('Churn by InternetService')\n",
    "\n",
    "# Churn by OnlineSecurity\n",
    "plt.subplot(2, 2, 2)\n",
    "sns.countplot(x='OnlineSecurity', hue='Churn', data=df)\n",
    "plt.xlabel('Online Security')\n",
    "plt.title('Churn by Online Security')\n",
    "\n",
    "# Churn by Payment Method\n",
    "plt.subplot(2, 2, 3)\n",
    "sns.countplot(x='PaymentMethod', hue='Churn', data=df)\n",
    "plt.xlabel('PaymentMethod')\n",
    "plt.title('Churn by PaymentMethod')\n",
    "\n",
    "# Churn by Streaming TV\n",
    "plt.subplot(2, 2, 4)\n",
    "sns.countplot(x='StreamingTV', hue='Churn', data=df)\n",
    "plt.xlabel('Streaming TV')\n",
    "plt.title('Churn by Streaming TV')\n",
    "\n",
    "plt.tight_layout()\n",
    "plt.show()"
   ]
  },
  {
   "cell_type": "markdown",
   "metadata": {
    "id": "HJ0_lXXs1DNp"
   },
   "source": [
    "# 5. Feature Correlations\n",
    "\n",
    "\n",
    "\n",
    "\n",
    "\n",
    "\n",
    "\n",
    "\n",
    "\n",
    "\n"
   ]
  },
  {
   "cell_type": "code",
   "execution_count": null,
   "metadata": {
    "id": "JKmAmvoY1ooB"
   },
   "outputs": [],
   "source": [
    "# Correlation matrix\n",
    "correlation = df.drop(['State', 'Area_Code', 'Phone'], axis=1)\n",
    "correlation = pd.get_dummies(correlation, drop_first=True)\n",
    "plt.figure(figsize=(12, 10))\n",
    "sns.heatmap(correlation.corr(), annot=True, cmap='coolwarm', fmt='.2f')\n",
    "plt.title('Correlation Matrix')\n",
    "plt.show()\n"
   ]
  },
  {
   "cell_type": "markdown",
   "metadata": {
    "id": "K-oaG3TGiLCa"
   },
   "source": [
    "# 6. Feature Engineering"
   ]
  },
  {
   "cell_type": "code",
   "execution_count": null,
   "metadata": {
    "id": "mq0o0JLkiQDC"
   },
   "outputs": [],
   "source": []
  },
  {
   "cell_type": "markdown",
   "metadata": {
    "id": "nu5jgdktiQnF"
   },
   "source": [
    "# 7. Modelling\n"
   ]
  },
  {
   "cell_type": "code",
   "execution_count": null,
   "metadata": {
    "id": "BfPJOFQbiUZ3"
   },
   "outputs": [],
   "source": []
  },
  {
   "cell_type": "markdown",
   "metadata": {
    "id": "M_WfUC0UiUmf"
   },
   "source": [
    "# 8. Model Evaluation"
   ]
  },
  {
   "cell_type": "code",
   "execution_count": null,
   "metadata": {
    "id": "eb4vYid-iXyR"
   },
   "outputs": [],
   "source": []
  },
  {
   "cell_type": "markdown",
   "metadata": {
    "id": "CxlI0xaTiYKS"
   },
   "source": [
    "# 9. Insights and Recommendations"
   ]
  },
  {
   "cell_type": "markdown",
   "metadata": {
    "id": "CBYFGv9tiaFs"
   },
   "source": []
  }
 ],
 "metadata": {
  "colab": {
   "provenance": [
    {
     "file_id": "1WXlHgvCCEmVW2n0TOEwdYJRmiJIVvBP1",
     "timestamp": 1741659372971
    }
   ],
   "toc_visible": true
  },
  "kernelspec": {
   "display_name": "Python 3",
   "name": "python3"
  },
  "language_info": {
   "name": "python"
  }
 },
 "nbformat": 4,
 "nbformat_minor": 0
}
